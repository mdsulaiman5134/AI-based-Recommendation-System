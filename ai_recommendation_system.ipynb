{
 "cells": [
  {
   "cell_type": "code",
   "execution_count": null,
   "id": "c0817b61",
   "metadata": {},
   "outputs": [],
   "source": [
    "# Load u.data\n",
    "ratings = spark.read.option(\"delimiter\", \"\\t\").option(\"header\", False).csv(\"/FileStore/tables/u.data\")\n",
    "ratings = ratings.withColumnRenamed(\"_c0\", \"user_id\")\\\n",
    "                 .withColumnRenamed(\"_c1\", \"movie_id\")\\\n",
    "                 .withColumnRenamed(\"_c2\", \"rating\")\\\n",
    "                 .withColumnRenamed(\"_c3\", \"timestamp\")"
   ]
  },
  {
   "cell_type": "code",
   "execution_count": null,
   "id": "07d1c2a6",
   "metadata": {},
   "outputs": [],
   "source": [
    "# Load u.item (encoding issue fix: ISO-8859-1)\n",
    "movies = spark.read.option(\"delimiter\", \"|\").option(\"header\", False)\\\n",
    "        .csv(\"/FileStore/tables/u.item\", encoding=\"ISO-8859-1\")\n",
    "movies = movies.selectExpr(\"_c0 as movie_id\", \"_c1 as title\")"
   ]
  },
  {
   "cell_type": "code",
   "execution_count": null,
   "id": "f14035e4",
   "metadata": {},
   "outputs": [],
   "source": [
    "# Show sample data\n",
    "ratings.show(5)\n",
    "movies.show(5)"
   ]
  },
  {
   "cell_type": "code",
   "execution_count": null,
   "id": "c8190007",
   "metadata": {},
   "outputs": [],
   "source": [
    "from pyspark.ml.recommendation import ALS\n",
    "from pyspark.ml.evaluation import RegressionEvaluator\n",
    "from pyspark.sql.functions import col"
   ]
  },
  {
   "cell_type": "code",
   "execution_count": null,
   "id": "244cbe03",
   "metadata": {},
   "outputs": [],
   "source": [
    "# Convert types\n",
    "ratings = ratings.select(\n",
    "    col(\"user_id\").cast(\"int\"),\n",
    "    col(\"movie_id\").cast(\"int\"),\n",
    "    col(\"rating\").cast(\"float\")\n",
    ")"
   ]
  },
  {
   "cell_type": "code",
   "execution_count": null,
   "id": "63824551",
   "metadata": {},
   "outputs": [],
   "source": [
    "# Split into training and test sets\n",
    "(training, test) = ratings.randomSplit([0.8, 0.2], seed=42)\n",
    "\n",
    "als = ALS(\n",
    "    userCol=\"user_id\",\n",
    "    itemCol=\"movie_id\",\n",
    "    ratingCol=\"rating\",\n",
    "    nonnegative=True,\n",
    "    coldStartStrategy=\"drop\",\n",
    "    implicitPrefs=False,\n",
    "    rank=10,\n",
    "    maxIter=10,\n",
    "    regParam=0.1\n",
    ")\n",
    "\n",
    "model = als.fit(training)\n",
    "predictions = model.transform(test)"
   ]
  },
  {
   "cell_type": "code",
   "execution_count": null,
   "id": "ae35f9ff",
   "metadata": {},
   "outputs": [],
   "source": [
    "# Evaluate the model\n",
    "evaluator = RegressionEvaluator(\n",
    "    metricName=\"rmse\",\n",
    "    labelCol=\"rating\",\n",
    "    predictionCol=\"prediction\"\n",
    ")\n",
    "\n",
    "rmse = evaluator.evaluate(predictions)\n",
    "print(f\"RMSE: {rmse:.4f}\")"
   ]
  },
  {
   "cell_type": "code",
   "execution_count": null,
   "id": "03eef2a6",
   "metadata": {},
   "outputs": [],
   "source": [
    "# Top 5 movie recommendations for all users\n",
    "user_recs = model.recommendForAllUsers(5)"
   ]
  },
  {
   "cell_type": "code",
   "execution_count": null,
   "id": "77f41b45",
   "metadata": {},
   "outputs": [],
   "source": [
    "# Show recommendations for a specific user (e.g., user_id = 100)\n",
    "user_recs.filter(user_recs.user_id == 100).show(truncate=False)"
   ]
  },
  {
   "cell_type": "code",
   "execution_count": null,
   "id": "08b3b2f2",
   "metadata": {},
   "outputs": [],
   "source": [
    "# Reload movie metadata properly\n",
    "movies = spark.read.option(\"delimiter\", \"|\").csv(\n",
    "    \"/FileStore/tables/u.item\", \n",
    "    inferSchema=True\n",
    ").toDF(\"movie_id\", \"title\", \"release_date\", \"video_release_date\", \"IMDb_URL\",\n",
    "      \"unknown\", \"Action\", \"Adventure\", \"Animation\", \"Children\", \"Comedy\",\n",
    "      \"Crime\", \"Documentary\", \"Drama\", \"Fantasy\", \"Film-Noir\", \"Horror\",\n",
    "      \"Musical\", \"Mystery\", \"Romance\", \"Sci-Fi\", \"Thriller\", \"War\", \"Western\")"
   ]
  },
  {
   "cell_type": "code",
   "execution_count": null,
   "id": "87b779bf",
   "metadata": {},
   "outputs": [],
   "source": [
    "from pyspark.sql.functions import array, concat_ws\n",
    "\n",
    "# Combine genre columns\n",
    "genre_columns = [\"Action\", \"Adventure\", \"Animation\", \"Children\", \"Comedy\",\n",
    "                 \"Crime\", \"Documentary\", \"Drama\", \"Fantasy\", \"Film-Noir\",\n",
    "                 \"Horror\", \"Musical\", \"Mystery\", \"Romance\", \"Sci-Fi\",\n",
    "                 \"Thriller\", \"War\", \"Western\"]\n",
    "\n",
    "movies = movies.withColumn(\"genres\",\n",
    "    concat_ws(\" \",\n",
    "        *[col(c).cast(\"string\") for c in genre_columns if c in movies.columns]\n",
    "    )\n",
    ")"
   ]
  },
  {
   "cell_type": "code",
   "execution_count": null,
   "id": "1d6491d0",
   "metadata": {},
   "outputs": [],
   "source": [
    "from pyspark.ml.feature import Tokenizer, HashingTF, IDF\n",
    "\n",
    "# TF-IDF Feature Engineering\n",
    "tokenizer = Tokenizer(inputCol=\"genres\", outputCol=\"words\")\n",
    "words_data = tokenizer.transform(movies)\n",
    "\n",
    "hashingTF = HashingTF(inputCol=\"words\", outputCol=\"raw_features\", numFeatures=100)\n",
    "featurized_data = hashingTF.transform(words_data)\n",
    "\n",
    "idf = IDF(inputCol=\"raw_features\", outputCol=\"features\")\n",
    "idf_model = idf.fit(featurized_data)\n",
    "tfidf_data = idf_model.transform(featurized_data)"
   ]
  },
  {
   "cell_type": "code",
   "execution_count": null,
   "id": "1a226312",
   "metadata": {},
   "outputs": [],
   "source": [
    "# Save ALS recommendations\n",
    "user_recommendations = model.recommendForAllUsers(10)\n",
    "\n",
    "from pyspark.sql.functions import explode\n",
    "\n",
    "flat_recs = user_recommendations.select(\"user_id\", explode(\"recommendations\").alias(\"rec\"))\n",
    "flat_recs = flat_recs.select(\"user_id\", col(\"rec.movie_id\"), col(\"rec.rating\"))\n",
    "\n",
    "# Join with movie titles\n",
    "final_recs = flat_recs.join(movies.select(\"movie_id\", \"title\"), on=\"movie_id\", how=\"left\")"
   ]
  },
  {
   "cell_type": "code",
   "execution_count": null,
   "id": "d51d1676",
   "metadata": {},
   "outputs": [],
   "source": [
    "# Export as CSV\n",
    "final_recs.toPandas().to_csv(\"/dbfs/FileStore/tables/als_recommendations.csv\", index=False)"
   ]
  },
 
 ],
 "metadata": {},
 "nbformat": 4,
 "nbformat_minor": 5
}
